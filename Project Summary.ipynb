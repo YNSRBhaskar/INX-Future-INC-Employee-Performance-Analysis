{
 "cells": [
  {
   "cell_type": "markdown",
   "id": "fe051156",
   "metadata": {},
   "source": [
    "# PROJECT SUMMARY\n",
    "\n",
    "\n",
    "INX Future Inc Employee Performance - Project\n",
    "INX Future Inc , (referred as INX ) , is one of the leading data analytics and automation solutions provider\n",
    "with over 15 years of global business presence. INX is consistently rated as top 20 best employers past 5\n",
    "years. INX human resource policies are considered as employee friendly and widely perceived as best\n",
    "practices in the industry.\n",
    "Recent years, the employee performance indexes are not healthy and this is becoming a growing\n",
    "concerns among the top management. There has been increased escalations on service delivery and\n",
    "client satisfaction levels came down by 8 percentage points.\n",
    "CEO, Mr. Brain, knows the issues but concerned to take any actions in penalizing non-performing\n",
    "employees as this would affect the employee morale of all the employees in general and may further\n",
    "reduce the performance. Also, the market perception best employer and thereby attracting best talents\n",
    "to join the company.\n",
    "Mr. Brain decided to initiate a data science project , which analyses the current employee data and find\n",
    "the core underlying causes of this performance issues. Mr. Brain, being a data scientist himself, expects\n",
    "the findings of this project will help him to take right course of actions. He also expects a clear indicators\n",
    "of non performing employees, so that any penalization of non-performing employee, if required, may\n",
    "not significantly affect other employee morals.\n",
    "\n",
    "\n",
    "INSIGHTS OF THE PROJECT :\n",
    "1. Department wise performances\n",
    "2. Top 3 Important Factors effecting employee performance\n",
    "3. A trained model which can predict the employee performance based on factors as inputs. This\n",
    "will be used to hire employees\n",
    "4. Recommendations to improve the employee performance based on insights from analysis.\n"
   ]
  },
  {
   "cell_type": "markdown",
   "id": "8a2bcf83",
   "metadata": {},
   "source": [
    "### 1. What were the most important features selected for analysis and why?"
   ]
  },
  {
   "cell_type": "markdown",
   "id": "9dc2efe6",
   "metadata": {},
   "source": [
    "The top three best features selected for analysis are 'EmpEnvironmentSatisfaction','EmpLastSalaryHikePercent','YearsSinceLastPromotion' with 'EmpDepartment'. As they have high correlation with 'PerformanceRating'."
   ]
  },
  {
   "cell_type": "markdown",
   "id": "5f080dfe",
   "metadata": {},
   "source": [
    "### 2. Did you make any important feature transformations?"
   ]
  },
  {
   "cell_type": "markdown",
   "id": "a3d5433e",
   "metadata": {},
   "source": [
    "Yes in this project we used LabelEncoding & Correlation these are the important feature transformations."
   ]
  },
  {
   "cell_type": "markdown",
   "id": "f86d95d6",
   "metadata": {},
   "source": [
    "### 3. Correlation or interactions among the features selected and how it is considered? "
   ]
  },
  {
   "cell_type": "markdown",
   "id": "b12d07a7",
   "metadata": {},
   "source": [
    "correlation is a statistical technique that can show how strong pair of variables are related. Feature selection is also known as Variable selection or Attribute selection.Essentially, it is the process of selecting the most important/relevant Features of a dataset. Only correlations of all the factors with PerformanceRating is considered for getting the best model as per business case."
   ]
  },
  {
   "cell_type": "markdown",
   "id": "2a0c7afd",
   "metadata": {},
   "source": [
    "## RESULTS, ANALYSIS AND INSIGHTS"
   ]
  },
  {
   "cell_type": "markdown",
   "id": "4d07fed0",
   "metadata": {},
   "source": [
    "Results:\n",
    "\n",
    "Random Forest which gives 84% accuracy. The features that are positively correlated are Environment Satisfaction, Last Salary Hike Percent & Worklife Balance. This means that if these factors increases, Performance Rating will increase. On the other hand, the features that are negatively correlated are Years Since Last Promotion, Experience Years at this Company, Experience years in Current Role & Years with Current Manager. This means that if these factors increases, Performance Rating will go down.\n",
    "The top 3 features effecting employee performances are:\n",
    "- Employee Environment Satisfaction \n",
    "- Employee Last Salary Hike Percent\n",
    "- Years since last promotion"
   ]
  },
  {
   "cell_type": "markdown",
   "id": "0d76a52e",
   "metadata": {},
   "source": [
    "Analysis & Insights:\n",
    "\n",
    "\n",
    "- The data is supervised and categorical. The predictor variables are ordinal and a few among them are nominal. The target variable 'Performance Rating' is ordinal.\n",
    "- To analyze the data, various data processing techniques like Label Encoding and Standardization is used. Correlation Coeffecient is used to interpret the relationship between variables. The most important features selected are Department, Job Role, Environment Satisfaction, Last Salary Hike Percent, Work Life Balance, Experience Years At This Company, Experience Years In Current Role, Years Since Last Promotion, Years With Current Manager.\n",
    "- For training the data and predicting the target, algorithms used are Logistic Regression, Random Forest and Artificial Neural Network.\n",
    "- A separate analysis of Department wise Performance is carried out."
   ]
  },
  {
   "cell_type": "markdown",
   "id": "23d4adf0",
   "metadata": {},
   "source": [
    "## RECOMMENDATIONS"
   ]
  },
  {
   "cell_type": "markdown",
   "id": "fa1b753d",
   "metadata": {},
   "source": [
    "\n",
    "- Employees with low Performance Rating should be taking very care of since they can ruin the working atmosphere of the other employees.\n",
    "- Interactive and encouraging training sections should be arranges every 6months or a year to encourage those kind of employee whose performance are going low.\n",
    "- Some positive changes should be made in the working environment for employees.\n",
    "- Sales and Research & Development department should follow strategies or policies followed by Development department as there are high percentage of Good Performance Rating and low percentage of poor performance rating.\n",
    "- Salary Hike Policies should be changed as per convenience of company as well as employees.\n",
    "- Years of salary hike should be reduced and hike percentage should be increased for employee satisfaction.\n",
    "- Employee issues should be taken into consideration so that they can work peacefully and improve their performance.\n",
    "- Flexibility in working hours should be granted to balance the work life to improve performance in work.\n",
    "The model will help increase the market perception of best employer and thereby attracting best talents to join the company."
   ]
  },
  {
   "cell_type": "code",
   "execution_count": null,
   "id": "4aafff65",
   "metadata": {},
   "outputs": [],
   "source": []
  }
 ],
 "metadata": {
  "kernelspec": {
   "display_name": "Python 3",
   "language": "python",
   "name": "python3"
  },
  "language_info": {
   "codemirror_mode": {
    "name": "ipython",
    "version": 3
   },
   "file_extension": ".py",
   "mimetype": "text/x-python",
   "name": "python",
   "nbconvert_exporter": "python",
   "pygments_lexer": "ipython3",
   "version": "3.8.8"
  }
 },
 "nbformat": 4,
 "nbformat_minor": 5
}
